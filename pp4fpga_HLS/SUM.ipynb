{
 "cells": [
  {
   "cell_type": "code",
   "execution_count": 7,
   "metadata": {},
   "outputs": [],
   "source": [
    "\n",
    "import numpy as np\n",
    "\n",
    "import pynq\n",
    "\n",
    "ol = pynq.Overlay(\"/home/xilinx/jupyter_notebooks/workshop/Session_2/pynq_tutorial/hw/bitstream/pynq_tutorial.bit\")\n",
    "\n",
    "led_addr = ol.ip_dict[\"swsleds_gpio\"]['phys_addr']\n",
    "\n",
    "from pynq import MMIO\n",
    "CH2_OFFSET = 0x8\n",
    "leds = MMIO(led_addr + CH2_OFFSET)\n",
    "\n",
    "leds.write(0, 1) # Turn on LD0\n",
    "\n",
    "\n",
    "from pynq import overlay\n",
    "from pynq import DefaultIP\n"
   ]
  },
  {
   "cell_type": "code",
   "execution_count": 8,
   "metadata": {},
   "outputs": [
    {
     "name": "stdout",
     "output_type": "stream",
     "text": [
      "[3 3 3 3 3 3 3 3 3 3 3 3 3 3 3 3 3 3 3 3 3 3 3 3 3 3 3 3 3 3 3 3 3 3 3 3 3\n",
      " 3 3 3 3 3 3 3 3 3 3 3 3 3 3 3 3 3 3 3 3 3 3 3 3 3 3 3 3 3 3 3 3 3 3 3 3 3\n",
      " 3 3 3 3 3 3 3 3 3 3 3 3 3 3 3 3 3 3 3 3 3 3 3 3 3 3 3 3 3 3 3 3 3 3 3 3 3\n",
      " 3 3 3 3 3 3 3 3 3 3 3 3 3 3 3 3 3]\n",
      "[  3   6   9  12  15  18  21  24  27  30  33  36  39  42  45  48  51  54\n",
      "  57  60  63  66  69  72  75  78  81  84  87  90  93  96  99 102 105 108\n",
      " 111 114 117 120 123 126 129 132 135 138 141 144 147 150 153 156 159 162\n",
      " 165 168 171 174 177 180 183 186 189 192 195 198 201 204 207 210 213 216\n",
      " 219 222 225 228 231 234 237 240 243 246 249 252 255 258 261 264 267 270\n",
      " 273 276 279 282 285 288 291 294 297 300 303 306 309 312 315 318 321 324\n",
      " 327 330 333 336 339 342 345 348 351 354 357 360 363 366 369 372 375 378\n",
      " 381 384]\n"
     ]
    }
   ],
   "source": [
    "import pynq.lib.dma\n",
    "\n",
    "sumol = pynq.Overlay(\"/home/xilinx/jupyter_notebooks/pp4fpga/sum/sumtest.bit\")\n",
    "\n",
    "# dma = overlay.const_multiply.multiply_dma\n",
    "# multiply = overlay.const_multiply.multiply\n",
    "\n",
    "dma = sumol.axi_dma_0\n",
    "# s = sumol.sum_0\n",
    "\n",
    "\n",
    "from pynq import Xlnk\n",
    "\n",
    "xlnk = Xlnk()\n",
    "in_buffer = xlnk.cma_array(shape=(128,), dtype=np.int32)\n",
    "out_buffer = xlnk.cma_array(shape=(128,), dtype=np.int32)\n",
    "\n",
    "for i in range(128):\n",
    "    in_buffer[i] = 3;\n",
    "\n",
    "dma.sendchannel.transfer(in_buffer)\n",
    "dma.recvchannel.transfer(out_buffer)\n",
    "# dma.sendchannel.wait()\n",
    "# dma.recvchannel.wait()\n",
    "\n",
    "print(in_buffer)\n",
    "print(out_buffer)"
   ]
  },
  {
   "cell_type": "code",
   "execution_count": 9,
   "metadata": {},
   "outputs": [
    {
     "data": {
      "text/plain": [
       "[<matplotlib.lines.Line2D at 0x2e416870>]"
      ]
     },
     "execution_count": 9,
     "metadata": {},
     "output_type": "execute_result"
    },
    {
     "data": {
      "image/png": "[encoded data removed]",
      "text/plain": [
       "<matplotlib.figure.Figure at 0x2eecb150>"
      ]
     },
     "metadata": {},
     "output_type": "display_data"
    },
    {
     "data": {
      "image/png": "[encoded data removed]",
      "text/plain": [
       "<matplotlib.figure.Figure at 0x2e336f10>"
      ]
     },
     "metadata": {},
     "output_type": "display_data"
    }
   ],
   "source": [
    "import pylab as py\n",
    "import scipy as scipy\n",
    "import matplotlib.pyplot as plt\n",
    "import scipy.fftpack\n",
    "import numpy.fft\n",
    "\n",
    "\n",
    "fig1 = plt.figure()\n",
    "ax1 = fig1.gca()\n",
    "plt.plot(in_buffer)\n",
    "\n",
    "fig2 = plt.figure()\n",
    "ax2 = fig2.gca()\n",
    "\n",
    "plt.plot(out_buffer)"
   ]
  }
 ],
 "metadata": {
  "kernelspec": {
   "display_name": "Python 3",
   "language": "python",
   "name": "python3"
  },
  "language_info": {
   "codemirror_mode": {
    "name": "ipython",
    "version": 3
   },
   "file_extension": ".py",
   "mimetype": "text/x-python",
   "name": "python",
   "nbconvert_exporter": "python",
   "pygments_lexer": "ipython3",
   "version": "3.6.0"
  }
 },
 "nbformat": 4,
 "nbformat_minor": 2
}
