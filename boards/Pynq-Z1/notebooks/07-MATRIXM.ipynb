{
 "cells": [
  {
   "cell_type": "code",
   "execution_count": 4,
   "metadata": {},
   "outputs": [
    {
     "name": "stdout",
     "output_type": "stream",
     "text": [
      "[[2 2 2 ... 2 2 2]\n",
      " [2 2 2 ... 2 2 2]\n",
      " [2 2 2 ... 2 2 2]\n",
      " ...\n",
      " [2 2 2 ... 2 2 2]\n",
      " [2 2 2 ... 2 2 2]\n",
      " [2 2 2 ... 2 2 2]]\n",
      "[[2 2 2 ... 2 2 2]\n",
      " [2 2 2 ... 2 2 2]\n",
      " [2 2 2 ... 2 2 2]\n",
      " ...\n",
      " [2 2 2 ... 2 2 2]\n",
      " [2 2 2 ... 2 2 2]\n",
      " [2 2 2 ... 2 2 2]]\n",
      "[[128 128 128 ... 128 128 128]\n",
      " [128 128 128 ... 128 128 128]\n",
      " [128 128 128 ... 128 128 128]\n",
      " ...\n",
      " [128 128 128 ... 128 128 128]\n",
      " [128 128 128 ... 128 128 128]\n",
      " [128 128 128 ... 128 128 128]]\n"
     ]
    }
   ],
   "source": [
    "import pynq.lib.dma\n",
    "\n",
    "mmol = pynq.Overlay(\"./src/matrixm/matrixm.bit\")\n",
    "\n",
    "dma0 = mmol.axi_dma_0\n",
    "dma1 = mmol.axi_dma_1\n",
    "\n",
    "\n",
    "from pynq import Xlnk\n",
    "xlnk = Xlnk()\n",
    "A = xlnk.cma_array(shape=(32,32), dtype=np.int)\n",
    "B = xlnk.cma_array(shape=(32,32), dtype=np.int)\n",
    "AB = xlnk.cma_array(shape=(32,32), dtype=np.int)\n",
    "test = xlnk.cma_array(shape=(32,32), dtype=np.int)\n",
    "\n",
    "for i in range(32):\n",
    "    for j in range(32):\n",
    "        A[i][j] = 2;\n",
    "        B[i][j] = 2;\n",
    "               \n",
    "dma0.sendchannel.transfer(A)\n",
    "dma1.sendchannel.transfer(B)\n",
    "dma0.recvchannel.transfer(AB)\n",
    "dma1.recvchannel.transfer(test)\n",
    "\n",
    "print(A)\n",
    "print(B)\n",
    "print(AB)"
   ]
  }
 ],
 "metadata": {
  "kernelspec": {
   "display_name": "Python 3",
   "language": "python",
   "name": "python3"
  },
  "language_info": {
   "codemirror_mode": {
    "name": "ipython",
    "version": 3
   },
   "file_extension": ".py",
   "mimetype": "text/x-python",
   "name": "python",
   "nbconvert_exporter": "python",
   "pygments_lexer": "ipython3",
   "version": "3.6.0"
  }
 },
 "nbformat": 4,
 "nbformat_minor": 2
}
