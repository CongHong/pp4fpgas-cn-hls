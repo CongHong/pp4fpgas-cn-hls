{
 "cells": [
  {
   "cell_type": "code",
   "execution_count": 58,
   "metadata": {
    "collapsed": true
   },
   "outputs": [],
   "source": [
    "import pynq.lib.dma\n",
    "import numpy as np\n",
    "\n",
    "vsol = pynq.Overlay(\"./src/vs/vs.bit\")\n",
    "\n",
    "dma0 = vsol.axi_dma_0\n",
    "dma1 = vsol.axi_dma_1\n",
    "dma2 = vsol.axi_dma_2\n",
    "\n",
    "\n",
    "from pynq import Xlnk\n",
    "xlnk = Xlnk()\n",
    "\n",
    "Rin = xlnk.cma_array(shape=(16,16), dtype=np.uint8)\n",
    "Gin = xlnk.cma_array(shape=(16,16), dtype=np.uint8)\n",
    "Bin = xlnk.cma_array(shape=(16,16), dtype=np.uint8)\n",
    "Rout = xlnk.cma_array(shape=(16,16), dtype=np.uint)\n",
    "Gout = xlnk.cma_array(shape=(16,16), dtype=np.uint)\n",
    "Bout = xlnk.cma_array(shape=(16,16), dtype=np.uint)\n",
    "\n",
    "for i in range(16):\n",
    "    for j in range(16):\n",
    "        Rin[i][j] = 2*i;\n",
    "        Gin[i][j] = 255-i*i;\n",
    "        Bin[i][j] = i;     \n",
    "        \n",
    "dma0.sendchannel.transfer(Rin)\n",
    "dma1.sendchannel.transfer(Gin)\n",
    "dma2.sendchannel.transfer(Bin)\n",
    "dma0.recvchannel.transfer(Rout)\n",
    "dma1.recvchannel.transfer(Gout)\n",
    "dma2.recvchannel.transfer(Bout)\n",
    "\n",
    "\n"
   ]
  },
  {
   "cell_type": "markdown",
   "metadata": {},
   "source": [
    "现在做一个滤镜测试"
   ]
  },
  {
   "cell_type": "code",
   "execution_count": 57,
   "metadata": {},
   "outputs": [
    {
     "data": {
      "image/png": "[encoded data removed]",
      "text/plain": [
       "<PIL.PngImagePlugin.PngImageFile image mode=RGBA size=32x20 at 0x2F01D4B0>"
      ]
     },
     "execution_count": 57,
     "metadata": {},
     "output_type": "execute_result"
    }
   ],
   "source": [
    "from PIL import Image\n",
    "vstest = Image.open('./src/vs/vstest_32x20.png')\n",
    "\n",
    "testarray = np.array(vstest)\n",
    "\n",
    "red = testarray[:,:,0]\n",
    "green = testarray[:,:,1]\n",
    "blue = testarray[:,:,2]\n",
    "vstest"
   ]
  },
  {
   "cell_type": "code",
   "execution_count": 60,
   "metadata": {},
   "outputs": [
    {
     "data": {
      "text/plain": [
       "ContiguousArray([[  0,   0,   0,   0,   0,   0,   0,   0,   0,   0,   0,\n",
       "                    0,   0,   0,   0,   0,   0,  40,  41,  41,  45,  56,\n",
       "                   70, 102, 142, 143, 120, 110, 110, 108,  96,   0],\n",
       "                 [  0,  48,  51,  55,  60,  68,  76, 105, 143, 143, 128,\n",
       "                  127, 130, 125, 110,   0,   0,  56,  61,  69,  74,  78,\n",
       "                   86, 113, 145, 155, 156, 160, 160, 153, 138,   0],\n",
       "                 [  0,  68,  73,  84,  93, 100, 113, 135, 151, 159, 166,\n",
       "                  170, 168, 167, 166,   0,   0,  79,  85,  99, 112, 120,\n",
       "                  134, 157, 168, 172, 180, 185, 180, 183, 194,   0],\n",
       "                 [  0, 100, 109, 117, 125, 128, 141, 159, 162, 171, 184,\n",
       "                  190, 190, 196, 211,   0,   0, 120, 132, 135, 137, 136,\n",
       "                  142, 146, 146, 175, 202, 205, 204, 208, 211,   0],\n",
       "                 [  0, 109, 115, 128, 132, 114, 107, 118, 140, 174, 209,\n",
       "                  223, 220, 220, 210,   0,   0,  99,  98, 121, 125,  90,\n",
       "                   74,  99, 138, 159, 173, 190, 193, 190, 184,   0],\n",
       "                 [  0, 114, 114, 112, 112,  88,  78,  99, 128, 145, 142,\n",
       "                  145, 147, 129, 128,   0,   0, 157, 163, 139, 135, 123,\n",
       "                  123, 134, 126, 128, 129, 128, 123, 100, 102,   0],\n",
       "                 [  0, 182, 192, 185, 178, 163, 166, 169, 145, 127, 116,\n",
       "                  108, 104,  97,  98,   0,   0, 177, 189, 190, 164, 137,\n",
       "                  140, 151, 146, 124, 106,  97,  92,  92,  90,   0],\n",
       "                 [  0, 159, 169, 168, 143, 108, 106, 128, 135, 112, 101,\n",
       "                  103,  97,  92,  90,   0,   0,   0,   0,   0,   0,   0,\n",
       "                    0,   0,   0,   0,   0,   0,   0,   0,   0,   0],\n",
       "                 [  0,   0,   0,   0,   0,   0,   0,   0,   0,   0,   0,\n",
       "                    0,   0,   0,   0,   0,   0, 102, 108, 108,  98,  96,\n",
       "                  101,  99,  96,  96,  95,  93,  92,  88,  83,   0],\n",
       "                 [  0,  94,  94,  94,  93,  97,  97,  90,  81,  83,  93,\n",
       "                   98,  98,  93,  85,   0,   0,  88,  87,  86,  90,  97,\n",
       "                   95,  81,  63,  66,  88,  98,  96,  91,  86,   0],\n",
       "                 [  0,  86,  86,  87,  90,  95,  98,  86,  65,  70,  86,\n",
       "                   90,  87,  84,  81,   0,   0,  81,  80,  80,  83,  85,\n",
       "                   89,  81,  63,  66,  79,  83,  80,  68,  62,   0],\n",
       "                 [  0,  70,  62,  60,  67,  66,  59,  54,  51,  52,  53,\n",
       "                   65,  72,  58,  50,   0,   0,  70,  46,  41,  55,  57,\n",
       "                   48,  45,  57,  66,  52,  54,  76,  80,  74,   0],\n",
       "                 [  0,  76,  58,  61,  68,  64,  63,  57,  57,  68,  60,\n",
       "                   56,  72,  78,  76,   0,   0,  71,  72,  81,  72,  57,\n",
       "                   59,  54,  45,  46,  48,  53,  56,  50,  54,   0],\n",
       "                 [  0,  73,  69,  66,  58,  50,  54,  56,  53,  50,  47,\n",
       "                   49,  51,  50,  56,   0,   0,  75,  63,  60,  59,  60,\n",
       "                   65,  62,  57,  56,  53,  51,  51,  55,  57,   0],\n",
       "                 [  0,  62,  53,  60,  61,  62,  67,  57,  47,  50,  53,\n",
       "                   50,  48,  49,  48,   0,   0,  53,  49,  46,  47,  54,\n",
       "                   55,  47,  43,  46,  46,  45,  47,  48,  45,   0],\n",
       "                 [  0,  51,  50,  39,  38,  47,  45,  38,  41,  45,  40,\n",
       "                   40,  47,  47,  44,   0,   0,   0,   0,   0,   0,   0,\n",
       "                    0,   0,   0,   0,   0,   0,   0,   0,   0,   0],\n",
       "                 [  0,   0,   0,   0,   0,   0,   0,   0,   0,   0,   0,\n",
       "                    0,   0,   0,   0,   0,   0,   0,   0,   0,   0,   0,\n",
       "                    0,   0,   0,   0,   0,   0,   0,   0,   0,   0],\n",
       "                 [  0,   0,   0,   0,   0,   0,   0,   0,   0,   0,   0,\n",
       "                    0,   0,   0,   0,   0,   0,   0,   0,   0,   0,   0,\n",
       "                    0,   0,   0,   0,   0,   0,   0,   0,   0,   0],\n",
       "                 [  0,   0,   0,   0,   0,   0,   0,   0,   0,   0,   0,\n",
       "                    0,   0,   0,   0,   0,   0,   0,   0,   0,   0,   0,\n",
       "                    0,   0,   0,   0,   0,   0,   0,   0,   0,   0],\n",
       "                 [  0,   0,   0,   0,   0,   0,   0,   0,   0,   0,   0,\n",
       "                    0,   0,   0,   0,   0,   0,   0,   0,   0,   0,   0,\n",
       "                    0,   0,   0,   0,   0,   0,   0,   0,   0,   0]],\n",
       "                dtype=uint32)"
      ]
     },
     "execution_count": 60,
     "metadata": {},
     "output_type": "execute_result"
    }
   ],
   "source": [
    "import pynq.lib.dma\n",
    "\n",
    "vsol = pynq.Overlay(\"./src/vs/vs.bit\")\n",
    "\n",
    "dma0 = vsol.axi_dma_0\n",
    "dma1 = vsol.axi_dma_1\n",
    "dma2 = vsol.axi_dma_2\n",
    "\n",
    "\n",
    "from pynq import Xlnk\n",
    "xlnk = Xlnk()\n",
    "\n",
    "Rin = xlnk.cma_array(shape=(20,32), dtype=np.uint8)\n",
    "Gin = xlnk.cma_array(shape=(20,32), dtype=np.uint8)\n",
    "Bin = xlnk.cma_array(shape=(20,32), dtype=np.uint8)\n",
    "Rout = xlnk.cma_array(shape=(20,32), dtype=np.uint)\n",
    "Gout = xlnk.cma_array(shape=(20,32), dtype=np.uint)\n",
    "Bout = xlnk.cma_array(shape=(20,32), dtype=np.uint)\n",
    "\n",
    "for i in range(20):\n",
    "    for j in range(32):\n",
    "        Rin[i][j] = red[i][j];\n",
    "        Gin[i][j] = green[i][j];\n",
    "        Bin[i][j] = blue[i][j];\n",
    "        \n",
    "dma0.sendchannel.transfer(Rin)\n",
    "dma1.sendchannel.transfer(Gin)\n",
    "dma2.sendchannel.transfer(Bin)\n",
    "dma0.recvchannel.transfer(Rout)\n",
    "dma1.recvchannel.transfer(Gout)\n",
    "dma2.recvchannel.transfer(Bout)\n",
    "Bout"
   ]
  },
  {
   "cell_type": "code",
   "execution_count": 66,
   "metadata": {},
   "outputs": [
    {
     "data": {
      "image/png": "[encoded data removed]",
      "text/plain": [
       "<PIL.Image.Image image mode=RGB size=32x20 at 0x2F01DB50>"
      ]
     },
     "execution_count": 66,
     "metadata": {},
     "output_type": "execute_result"
    }
   ],
   "source": [
    "newimage = np.zeros((20,32,3), dtype=np.uint8)\n",
    "newimage[:,:,0] = Rout;\n",
    "newimage[:,:,1] = Gout;\n",
    "newimage[:,:,2] = Bout;\n",
    "img = Image.fromarray(newimage,'RGB')\n",
    "img.save('./src/vs/vstest_after.png')\n",
    "img"
   ]
  }
 ],
 "metadata": {
  "kernelspec": {
   "display_name": "Python 3",
   "language": "python",
   "name": "python3"
  },
  "language_info": {
   "codemirror_mode": {
    "name": "ipython",
    "version": 3
   },
   "file_extension": ".py",
   "mimetype": "text/x-python",
   "name": "python",
   "nbconvert_exporter": "python",
   "pygments_lexer": "ipython3",
   "version": "3.6.0"
  }
 },
 "nbformat": 4,
 "nbformat_minor": 2
}
