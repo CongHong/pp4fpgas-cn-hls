{
 "cells": [
  {
   "cell_type": "markdown",
   "metadata": {},
   "source": [
    "# Import Overlay\n",
    "导入Overlay"
   ]
  },
  {
   "cell_type": "code",
   "execution_count": 33,
   "metadata": {},
   "outputs": [
    {
     "name": "stdout",
     "output_type": "stream",
     "text": [
      "load ready\n"
     ]
    }
   ],
   "source": [
    "from pp4fpgas.cordic import CordicOverlay\n",
    "\n",
    "ov = CordicOverlay()"
   ]
  },
  {
   "cell_type": "markdown",
   "metadata": {},
   "source": [
    "# Register level driver\n",
    "直接读写寄存器来使用overlay中的hls ip"
   ]
  },
  {
   "cell_type": "code",
   "execution_count": 44,
   "metadata": {},
   "outputs": [
    {
     "data": {
      "text/plain": [
       "749"
      ]
     },
     "execution_count": 44,
     "metadata": {},
     "output_type": "execute_result"
    }
   ],
   "source": [
    "theta = 0b010000000000\n",
    "ov.cordic_0.write(0x10, theta)\n",
    "ov.cordic_0.read(0x20)"
   ]
  },
  {
   "cell_type": "markdown",
   "metadata": {},
   "source": [
    "# Learn something about this overlay\n",
    "了解overlay相关的api，从中获取该overlay包含的信息"
   ]
  },
  {
   "cell_type": "code",
   "execution_count": 35,
   "metadata": {},
   "outputs": [
    {
     "data": {
      "text/plain": [
       "{'cordic_0': {'addr_range': 65536,\n",
       "  'driver': __main__.cordicDriver,\n",
       "  'fullpath': 'cordic_0',\n",
       "  'gpio': {},\n",
       "  'interrupts': {},\n",
       "  'phys_addr': 1136656384,\n",
       "  'state': None,\n",
       "  'type': 'xilinx.com:hls:cordic:1.0'}}"
      ]
     },
     "execution_count": 35,
     "metadata": {},
     "output_type": "execute_result"
    }
   ],
   "source": [
    "ov.ip_dict"
   ]
  },
  {
   "cell_type": "code",
   "execution_count": 36,
   "metadata": {},
   "outputs": [
    {
     "data": {
      "text/plain": [
       "{}"
      ]
     },
     "execution_count": 36,
     "metadata": {},
     "output_type": "execute_result"
    }
   ],
   "source": [
    "ov.gpio_dict"
   ]
  },
  {
   "cell_type": "code",
   "execution_count": 39,
   "metadata": {},
   "outputs": [
    {
     "data": {
      "text/plain": [
       "{0: {'divisor0': 5, 'divisor1': 2, 'enable': 1},\n",
       " 1: {'divisor0': 1, 'divisor1': 1, 'enable': 0},\n",
       " 2: {'divisor0': 1, 'divisor1': 1, 'enable': 0},\n",
       " 3: {'divisor0': 1, 'divisor1': 1, 'enable': 0}}"
      ]
     },
     "execution_count": 39,
     "metadata": {},
     "output_type": "execute_result"
    }
   ],
   "source": [
    "ov.clock_dict"
   ]
  },
  {
   "cell_type": "code",
   "execution_count": 40,
   "metadata": {},
   "outputs": [
    {
     "data": {
      "text/plain": [
       "'/usr/local/lib/python3.6/dist-packages/pp4fpgas/cordic/cordic.bit'"
      ]
     },
     "execution_count": 40,
     "metadata": {},
     "output_type": "execute_result"
    }
   ],
   "source": [
    "ov.bitfile_name"
   ]
  },
  {
   "cell_type": "code",
   "execution_count": 37,
   "metadata": {},
   "outputs": [
    {
     "data": {
      "text/plain": [
       "{}"
      ]
     },
     "execution_count": 37,
     "metadata": {},
     "output_type": "execute_result"
    }
   ],
   "source": [
    "ov.hierarchy_dict"
   ]
  },
  {
   "cell_type": "code",
   "execution_count": 42,
   "metadata": {
    "scrolled": true
   },
   "outputs": [
    {
     "name": "stdout",
     "output_type": "stream",
     "text": [
      "Help on CordicOverlay in module pp4fpgas.cordic.cordic_overlay object:\n",
      "\n",
      "class CordicOverlay(pynq.overlay.Overlay)\n",
      " |  This class keeps track of a single bitstream's state and contents.\n",
      " |  \n",
      " |  The overlay class holds the state of the bitstream and enables run-time\n",
      " |  protection of bindlings.\n",
      " |  \n",
      " |  Our definition of overlay is: \"post-bitstream configurable design\".\n",
      " |  Hence, this class must expose configurability through content discovery\n",
      " |  and runtime protection.\n",
      " |  \n",
      " |  The overlay class exposes the IP and hierarchies as attributes in the\n",
      " |  overlay. If no other drivers are available the `DefaultIP` is constructed\n",
      " |  for IP cores at top level and `DefaultHierarchy` for any hierarchies that\n",
      " |  contain addressable IP. Custom drivers can be bound to IP and hierarchies\n",
      " |  by subclassing `DefaultIP` and `DefaultHierarchy`. See the help entries\n",
      " |  for those class for more details.\n",
      " |  \n",
      " |  This class stores four dictionaries: IP, GPIO, interrupt controller\n",
      " |  and interrupt pin dictionaries.\n",
      " |  \n",
      " |  Each entry of the IP dictionary is a mapping:\n",
      " |  'name' -> {phys_addr, addr_range, type, config, state}, where\n",
      " |  name (str) is the key of the entry.\n",
      " |  phys_addr (int) is the physical address of the IP.\n",
      " |  addr_range (int) is the address range of the IP.\n",
      " |  type (str) is the type of the IP.\n",
      " |  config (dict) is a dictionary of the configuration parameters.\n",
      " |  state (str) is the state information about the IP.\n",
      " |  \n",
      " |  Each entry of the GPIO dictionary is a mapping:\n",
      " |  'name' -> {pin, state}, where\n",
      " |  name (str) is the key of the entry.\n",
      " |  pin (int) is the user index of the GPIO, starting from 0.\n",
      " |  state (str) is the state information about the GPIO.\n",
      " |  \n",
      " |  Each entry in the interrupt controller dictionary is a mapping:\n",
      " |  'name' -> {parent, index}, where\n",
      " |  name (str) is the name of the interrupt controller.\n",
      " |  parent (str) is the name of the parent controller or '' if attached\n",
      " |  directly to the PS7.\n",
      " |  index (int) is the index of the interrupt attached to.\n",
      " |  \n",
      " |  Each entry in the interrupt pin dictionary is a mapping:\n",
      " |  'name' -> {controller, index}, where\n",
      " |  name (str) is the name of the pin.\n",
      " |  controller (str) is the name of the interrupt controller.\n",
      " |  index (int) is the line index.\n",
      " |  \n",
      " |  Attributes\n",
      " |  ----------\n",
      " |  bitfile_name : str\n",
      " |      The absolute path of the bitstream.\n",
      " |  bitstream : Bitstream\n",
      " |      The corresponding bitstream object.\n",
      " |  ip_dict : dict\n",
      " |      All the addressable IPs from PS7. Key is the name of the IP; value is\n",
      " |      a dictionary mapping the physical address, address range, IP type,\n",
      " |      configuration dictionary, and the state associated with that IP:\n",
      " |      {str: {'phys_addr' : int, 'addr_range' : int,               'type' : str, 'config' : dict, 'state' : str}}.\n",
      " |  gpio_dict : dict\n",
      " |      All the GPIO pins controlled by PS7. Key is the name of the GPIO pin;\n",
      " |      value is a dictionary mapping user index (starting from 0),\n",
      " |      and the state associated with that GPIO pin:\n",
      " |      {str: {'index' : int, 'state' : str}}.\n",
      " |  interrupt_controllers : dict\n",
      " |      All AXI interrupt controllers in the system attached to\n",
      " |      a PS7 interrupt line. Key is the name of the controller;\n",
      " |      value is a dictionary mapping parent interrupt controller and the\n",
      " |      line index of this interrupt:\n",
      " |      {str: {'parent': str, 'index' : int}}.\n",
      " |      The PS7 is the root of the hierarchy and is unnamed.\n",
      " |  interrupt_pins : dict\n",
      " |      All pins in the design attached to an interrupt controller.\n",
      " |      Key is the name of the pin; value is a dictionary\n",
      " |      mapping the interrupt controller and the line index used:\n",
      " |      {str: {'controller' : str, 'index' : int}}.\n",
      " |  \n",
      " |  Method resolution order:\n",
      " |      CordicOverlay\n",
      " |      pynq.overlay.Overlay\n",
      " |      pynq.pl.Bitstream\n",
      " |      pynq.pl._BitstreamMeta\n",
      " |      builtins.object\n",
      " |  \n",
      " |  Methods defined here:\n",
      " |  \n",
      " |  __init__(self, bitfile='', **kwargs)\n",
      " |      Return a new Overlay object.\n",
      " |      \n",
      " |      An overlay instantiates a bitstream object as a member initially.\n",
      " |      \n",
      " |      Parameters\n",
      " |      ----------\n",
      " |      bitfile_name : str\n",
      " |          The bitstream name or absolute path as a string.\n",
      " |      download : bool\n",
      " |          Whether the overlay should be downloaded.\n",
      " |      partial :\n",
      " |          Flag to indicate whether or not the bitstream is partial.\n",
      " |      \n",
      " |      Note\n",
      " |      ----\n",
      " |      This class requires a Vivado TCL file to be next to bitstream file\n",
      " |      with same name (e.g. `base.bit` and `base.tcl`).\n",
      " |  \n",
      " |  ----------------------------------------------------------------------\n",
      " |  Data and other attributes defined here:\n",
      " |  \n",
      " |  bitfile_name = ''\n",
      " |  \n",
      " |  ----------------------------------------------------------------------\n",
      " |  Methods inherited from pynq.overlay.Overlay:\n",
      " |  \n",
      " |  __dir__(self)\n",
      " |      __dir__() -> list\n",
      " |      default dir() implementation\n",
      " |  \n",
      " |  __getattr__(self, key)\n",
      " |      Overload of __getattr__ to return a driver for an IP or\n",
      " |      hierarchy. Throws an `RuntimeError` if the overlay is not loaded.\n",
      " |  \n",
      " |  download(self)\n",
      " |      The method to download a bitstream onto PL.\n",
      " |      \n",
      " |      Note\n",
      " |      ----\n",
      " |      After the bitstream has been downloaded, the \"timestamp\" in PL will be\n",
      " |      updated. In addition, all the dictionaries on PL will\n",
      " |      be reset automatically.\n",
      " |      \n",
      " |      Returns\n",
      " |      -------\n",
      " |      None\n",
      " |  \n",
      " |  is_loaded(self)\n",
      " |      This method checks whether a bitstream is loaded.\n",
      " |      \n",
      " |      This method returns true if the loaded PL bitstream is same\n",
      " |      as this Overlay's member bitstream.\n",
      " |      \n",
      " |      Returns\n",
      " |      -------\n",
      " |      bool\n",
      " |          True if bitstream is loaded.\n",
      " |  \n",
      " |  load_ip_data(self, ip_name, data)\n",
      " |      This method loads the data to the addressable IP.\n",
      " |      \n",
      " |      Calls the method in the super class to load the data. This method can\n",
      " |      be used to program the IP. For example, users can use this method to\n",
      " |      load the program to the Microblaze processors on PL.\n",
      " |      \n",
      " |      Note\n",
      " |      ----\n",
      " |      The data is assumed to be in binary format (.bin). The data name will\n",
      " |      be stored as a state information in the IP dictionary.\n",
      " |      \n",
      " |      Parameters\n",
      " |      ----------\n",
      " |      ip_name : str\n",
      " |          The name of the addressable IP.\n",
      " |      data : str\n",
      " |          The absolute path of the data to be loaded.\n",
      " |      \n",
      " |      Returns\n",
      " |      -------\n",
      " |      None\n",
      " |  \n",
      " |  reset(self)\n",
      " |      This function resets all the dictionaries kept in the overlay.\n",
      " |      \n",
      " |      This function should be used with caution. In most cases, only those\n",
      " |      dictionaries keeping track of states need to be updated.\n",
      " |      \n",
      " |      Returns\n",
      " |      -------\n",
      " |      None\n",
      " |  \n",
      " |  ----------------------------------------------------------------------\n",
      " |  Methods inherited from pynq.pl.Bitstream:\n",
      " |  \n",
      " |  convert_bit_to_bin(self)\n",
      " |      The method to convert a .bit file to .bin file.\n",
      " |      \n",
      " |      A .bit file is generated by Vivado, but .bin files are needed\n",
      " |      by the Zynq Ultrascale FPGA manager driver. Users must specify\n",
      " |      the absolute path to the source .bit file, and the destination\n",
      " |      .bin file and have read/write access to both paths. \n",
      " |      \n",
      " |      Note\n",
      " |      ----\n",
      " |      Imlemented based on: https://blog.aeste.my/?p=2892\n",
      " |      \n",
      " |      Returns\n",
      " |      -------\n",
      " |      None\n",
      " |  \n",
      " |  parse_bit_header(self)\n",
      " |      The method to parse the header of a bitstream.\n",
      " |      \n",
      " |      The returned dictionary has the following keys:\n",
      " |      \"design\": str, the Vivado project name that generated the bitstream;\n",
      " |      \"version\": str, the Vivado tool version that generated the bitstream;\n",
      " |      \"part\": str, the Xilinx part name that the bitstream targets;\n",
      " |      \"date\": str, the date the bitstream was compiled on;\n",
      " |      \"time\": str, the time the bitstream finished compilation;\n",
      " |      \"length\": int, total length of the bitstream (in bytes);\n",
      " |      \"data\": binary, binary data in .bit file format\n",
      " |      \n",
      " |      Returns\n",
      " |      -------\n",
      " |      Dict\n",
      " |          A dictionary containing the header information.\n",
      " |      \n",
      " |      Note\n",
      " |      ----\n",
      " |      Implemented based on: https://blog.aeste.my/?p=2892\n",
      " |  \n",
      " |  ----------------------------------------------------------------------\n",
      " |  Data and other attributes inherited from pynq.pl.Bitstream:\n",
      " |  \n",
      " |  BS_FPGA_MAN = '/sys/class/fpga_manager/fpga0/firmware'\n",
      " |  \n",
      " |  BS_FPGA_MAN_FLAGS = '/sys/class/fpga_manager/fpga0/flags'\n",
      " |  \n",
      " |  ----------------------------------------------------------------------\n",
      " |  Data descriptors inherited from pynq.pl._BitstreamMeta:\n",
      " |  \n",
      " |  __dict__\n",
      " |      dictionary for instance variables (if defined)\n",
      " |  \n",
      " |  __weakref__\n",
      " |      list of weak references to the object (if defined)\n",
      "\n"
     ]
    }
   ],
   "source": [
    "help(ov)"
   ]
  },
  {
   "cell_type": "markdown",
   "metadata": {},
   "source": [
    "# Write a driver for hls ip\n",
    "给hls ip写一个上层驱动"
   ]
  },
  {
   "cell_type": "code",
   "execution_count": 45,
   "metadata": {},
   "outputs": [],
   "source": [
    "from pynq import DefaultIP\n",
    "\n",
    "class cordicDriver(DefaultIP):\n",
    "    def __init__(self, description):\n",
    "        super().__init__(description=description)\n",
    "\n",
    "    bindto = ['xilinx.com:hls:cordic:1.0']\n",
    "\n",
    "    def calc(self, theta):\n",
    "        self.write(0x10, theta)\n",
    "        return self.read(0x20)"
   ]
  },
  {
   "cell_type": "code",
   "execution_count": 46,
   "metadata": {},
   "outputs": [
    {
     "name": "stdout",
     "output_type": "stream",
     "text": [
      "load ready\n"
     ]
    }
   ],
   "source": [
    "cordic = CordicOverlay()"
   ]
  },
  {
   "cell_type": "code",
   "execution_count": 47,
   "metadata": {},
   "outputs": [
    {
     "data": {
      "text/plain": [
       "749"
      ]
     },
     "execution_count": 47,
     "metadata": {},
     "output_type": "execute_result"
    }
   ],
   "source": [
    "cordic.cordic_0.calc(0b010000000000)"
   ]
  }
 ],
 "metadata": {
  "kernelspec": {
   "display_name": "Python 3",
   "language": "python",
   "name": "python3"
  },
  "language_info": {
   "codemirror_mode": {
    "name": "ipython",
    "version": 3
   },
   "file_extension": ".py",
   "mimetype": "text/x-python",
   "name": "python",
   "nbconvert_exporter": "python",
   "pygments_lexer": "ipython3",
   "version": "3.6.5"
  }
 },
 "nbformat": 4,
 "nbformat_minor": 2
}
