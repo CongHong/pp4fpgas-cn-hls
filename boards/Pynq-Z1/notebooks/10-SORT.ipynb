{
 "cells": [
  {
   "cell_type": "code",
   "execution_count": 6,
   "metadata": {},
   "outputs": [
    {
     "name": "stdout",
     "output_type": "stream",
     "text": [
      "input is:\n",
      "[49 26 76 71 35 72 76 73 40 46 64 12 72 74 75 59]\n",
      "sorted output:\n",
      "[12 26 35 40 46 49 59 64 71 72 72 73 74 75 76 76]\n"
     ]
    }
   ],
   "source": [
    "import pynq.lib.dma\n",
    "import numpy as np\n",
    "import random\n",
    "sortol = pynq.Overlay(\"./src/sort/sort.bit\")\n",
    "actualin = np.array\n",
    "# dma = overlay.const_multiply.multiply_dma\n",
    "# multiply = overlay.const_multiply.multiply\n",
    "\n",
    "dma = sortol.axi_dma_0\n",
    "# s = sumol.sum_0\n",
    "\n",
    "\n",
    "from pynq import Xlnk\n",
    "\n",
    "xlnk = Xlnk()\n",
    "in_buffer = xlnk.cma_array(shape=(32,), dtype=np.int) #the length of the \n",
    "#array has to be twice the number you wanna sort\n",
    "#here we set the sorted array's length to be 16\n",
    "out_buffer = xlnk.cma_array(shape=(16,), dtype=np.int)\n",
    "\n",
    "for i in range(16):\n",
    "    in_buffer[i] = random.randint(0,100);\n",
    "\n",
    "dma.sendchannel.transfer(in_buffer)\n",
    "# dma.sendchannel.wait()\n",
    "dma.recvchannel.transfer(out_buffer)\n",
    "\n",
    "# dma.recvchannel.wait()\n",
    "\n",
    "\n",
    "actualin = in_buffer[0:16]\n",
    "    \n",
    "print(\"input is:\")   \n",
    "print(actualin)\n",
    "print(\"sorted output:\")\n",
    "print(out_buffer)"
   ]
  }
 ],
 "metadata": {
  "kernelspec": {
   "display_name": "Python 3",
   "language": "python",
   "name": "python3"
  },
  "language_info": {
   "codemirror_mode": {
    "name": "ipython",
    "version": 3
   },
   "file_extension": ".py",
   "mimetype": "text/x-python",
   "name": "python",
   "nbconvert_exporter": "python",
   "pygments_lexer": "ipython3",
   "version": "3.6.0"
  }
 },
 "nbformat": 4,
 "nbformat_minor": 2
}
