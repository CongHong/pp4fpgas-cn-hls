{
 "cells": [
  {
   "cell_type": "code",
   "execution_count": 15,
   "metadata": {},
   "outputs": [
    {
     "data": {
      "text/plain": [
       "ContiguousArray([11, 37, 15, 32])"
      ]
     },
     "execution_count": 15,
     "metadata": {},
     "output_type": "execute_result"
    }
   ],
   "source": [
    "import pynq.lib.dma\n",
    "\n",
    "spmvol = pynq.Overlay(\"./src/spmv/spmv.bit\")\n",
    "\n",
    "dma0 = spmvol.axi_dma_0\n",
    "dma1 = spmvol.axi_dma_1\n",
    "dma2 = spmvol.axi_dma_2\n",
    "dma3 = spmvol.axi_dma_3\n",
    "\n",
    "\n",
    "from pynq import Xlnk\n",
    "xlnk = Xlnk()\n",
    "rowPtr = xlnk.cma_array(shape=(5,), dtype=np.int)\n",
    "columnIndex = xlnk.cma_array(shape=(9,), dtype=np.int)\n",
    "values = xlnk.cma_array(shape=(9,), dtype=np.int)\n",
    "x = xlnk.cma_array(shape=(4,), dtype=np.int)\n",
    "y = xlnk.cma_array(shape=(4,), dtype=np.int)\n",
    "t1 = xlnk.cma_array(shape=(4,), dtype=np.int)\n",
    "t2 = xlnk.cma_array(shape=(4,), dtype=np.int)\n",
    "t3 = xlnk.cma_array(shape=(4,), dtype=np.int)\n",
    "\n",
    "rowPtr[0] = 0\n",
    "rowPtr[1] = 2\n",
    "rowPtr[2] = 4\n",
    "rowPtr[3] = 7\n",
    "rowPtr[4] = 9\n",
    "\n",
    "columnIndex[0] = 0\n",
    "columnIndex[1] = 1\n",
    "columnIndex[2] = 1\n",
    "columnIndex[3] = 2\n",
    "columnIndex[4] = 0\n",
    "columnIndex[5] = 2\n",
    "columnIndex[6] = 3\n",
    "columnIndex[7] = 1\n",
    "columnIndex[8] = 3\n",
    "\n",
    "values[0] = 3\n",
    "values[1] = 4\n",
    "values[2] = 5\n",
    "values[3] = 9\n",
    "values[4] = 2\n",
    "values[5] = 3\n",
    "values[6] = 1\n",
    "values[7] = 4\n",
    "values[8] = 6\n",
    "\n",
    "x[0] = 1\n",
    "x[1] = 2\n",
    "x[2] = 3\n",
    "x[3] = 4\n",
    "\n",
    "dma0.sendchannel.transfer(rowPtr)\n",
    "dma1.sendchannel.transfer(columnIndex)\n",
    "dma2.sendchannel.transfer(values)\n",
    "dma3.sendchannel.transfer(x)\n",
    "dma0.recvchannel.transfer(y)\n",
    "dma1.recvchannel.transfer(t1)\n",
    "dma2.recvchannel.transfer(t2)\n",
    "dma3.recvchannel.transfer(t3)\n"
   ]
  },
  {
   "cell_type": "code",
   "execution_count": 16,
   "metadata": {},
   "outputs": [
    {
     "name": "stdout",
     "output_type": "stream",
     "text": [
      "[11 37 15 32]\n"
     ]
    }
   ],
   "source": [
    "\n",
    "testx = ([1,2,3,4])\n",
    "testm = ([3,4,0,0],[0,5,9,0],[2,0,3,1],[0,4,0,6])\n",
    "testy = xlnk.cma_array(shape=(4,), dtype=np.int)\n",
    "for i in range(4):\n",
    "    y0 = 0\n",
    "    for j in range(4):\n",
    "        y0 += testm[i][j] * testx[j]\n",
    "    \n",
    "    testy[i] = y0\n",
    "    \n",
    "print(testy)"
   ]
  }
 ],
 "metadata": {
  "kernelspec": {
   "display_name": "Python 3",
   "language": "python",
   "name": "python3"
  },
  "language_info": {
   "codemirror_mode": {
    "name": "ipython",
    "version": 3
   },
   "file_extension": ".py",
   "mimetype": "text/x-python",
   "name": "python",
   "nbconvert_exporter": "python",
   "pygments_lexer": "ipython3",
   "version": "3.6.0"
  }
 },
 "nbformat": 4,
 "nbformat_minor": 2
}
