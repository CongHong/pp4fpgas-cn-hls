{
 "cells": [
  {
   "cell_type": "code",
   "execution_count": 5,
   "metadata": {
    "collapsed": true
   },
   "outputs": [],
   "source": [
    "class SumDriver(DefaultIP):\n",
    "    def __init__(self, description):\n",
    "        super().__init__(description=description)\n",
    "    \n",
    "    bindto = ['xilinx.com:histogram::1.0']\n",
    "    \n",
    "    @property\n",
    "    def x(self):\n",
    "        return self.read(0x10)\n",
    "    \n",
    "    @x.setter\n",
    "    def x(self, value):\n",
    "        self.write(0x10, value)"
   ]
  },
  {
   "cell_type": "code",
   "execution_count": 44,
   "metadata": {},
   "outputs": [
    {
     "name": "stdout",
     "output_type": "stream",
     "text": [
      "[ 10  10  10  10  30  50 100 100   0   0   0   0   0   0   0   0   0   0\n",
      "   4   0   0   0   0   0   0   0   0   0   0   0   0   0   0   0   0   0\n",
      "   0   0   1   0   0   0   0   0   0   0   0   0   0   0   0   0   0   0\n",
      "   0   0   0   0   1   0   0   0   0   0   0   0   0   0   0   0   0   0\n",
      "   0   0   0   0   0   0   0   0   0   0   0   0   0   0   0   0   0   0\n",
      "   0   0   0   0   0   0   0   0   0   0   0   0   0   0   0   0   0   0\n",
      "   2   0   0   0   0   0   0   0   0   0   0   0   0   0   0   0   0   0\n",
      "   0   0   0   0   0   0   0   0   0   0   0   0   0   0   0   0   0   0\n",
      "   0   0   0   0   0   0   0   0   0   0   0   0   0   0   0   0   0   0\n",
      "   0   0   0   0   0   0   0   0   0   0   0   0   0   0   0   0   0   0\n",
      "   0   0   0   0   0   0   0   0   0   0   0   0   0   0   0   0   0   0\n",
      "   0   0   0   0   0   0   0   0   0   0   0   0   0   0   0   0   0   0\n",
      "   0   0   0   0   0   0   0   0   0   0   0   0   0   0   0   0   0   0\n",
      "   0   0   0   0   0   0   0   0   0   0   0   0   0   0   0   0   0   0\n",
      "   0   0   0   0   0   0   0   0   0   0   0   0]\n",
      "[0 0 0 0 0 0 0 0 0 0 4 0 0 0 0 0 0 0 0 0 0 0 0 0 0 0 0 0 0 0 1 0 0 0 0 0 0\n",
      " 0 0 0 0 0 0 0 0 0 0 0 0 0 1 0 0 0 0 0 0 0 0 0 0 0 0 0 0 0 0 0 0 0 0 0 0 0\n",
      " 0 0 0 0 0 0 0 0 0 0 0 0 0 0 0 0 0 0 0 0 0 0 0 0 0 0 2 0 0 0 0 0 0 0 0 0 0\n",
      " 0 0 0 0 0 0 0 0 0 0 0 0 0 0 0 0 0 0 0 0 0 0 0 0 0 0 0 0 0 0 0 0 0 0 0 0 0\n",
      " 0 0 0 0 0 0 0 0 0 0 0 0 0 0 0 0 0 0 0 0 0 0 0 0 0 0 0 0 0 0 0 0 0 0 0 0 0\n",
      " 0 0 0 0 0 0 0 0 0 0 0 0 0 0 0 0 0 0 0 0 0 0 0 0 0 0 0 0 0 0 0 0 0 0 0 0 0\n",
      " 0 0 0 0 0 0 0 0 0 0 0 0 0 0 0 0 0 0 0 0 0 0 0 0 0 0 0 0 0 0 0 0 0 0]\n"
     ]
    }
   ],
   "source": [
    "import pynq.lib.dma\n",
    "\n",
    "hisol = pynq.Overlay(\"./src/histogram/histogram.bit\")\n",
    "\n",
    "# dma = overlay.const_multiply.multiply_dma\n",
    "# multiply = overlay.const_multiply.multiply\n",
    "\n",
    "dma = hisol.axi_dma_0\n",
    "# s = sumol.sum_0\n",
    "\n",
    "\n",
    "from pynq import Xlnk\n",
    "\n",
    "xlnk = Xlnk()\n",
    "in_buffer = xlnk.cma_array(shape=(128,), dtype=np.uint32) \n",
    "# our input size is limited by IP core to be 8, and here the buffer size has to be greater than the greatest number in your input array\n",
    "out_buffer = xlnk.cma_array(shape=(264,), dtype=np.uint32)\n",
    "# our buffer size should be your output size+inputsize\n",
    "\n",
    "for i in range(0,4):\n",
    "    in_buffer[i] = 10;\n",
    "\n",
    "for j in range(4,5):\n",
    "    in_buffer[j] = 30;\n",
    "\n",
    "for j in range(5,6):\n",
    "    in_buffer[j] = 50;\n",
    "    \n",
    "for k in range(6,8):\n",
    "    in_buffer[k] = 100;\n",
    "\n",
    "    \n",
    "dma.sendchannel.transfer(in_buffer)\n",
    "dma.sendchannel.wait()\n",
    "dma.recvchannel.transfer(out_buffer)\n",
    "dma.recvchannel.wait()\n",
    "\n",
    "inputa = in_buffer[0:8]\n",
    "\n",
    "print(out_buffer)\n",
    "\n",
    "result = out_buffer[8:264]\n",
    "\n",
    "print(result)"
   ]
  },
  {
   "cell_type": "code",
   "execution_count": 45,
   "metadata": {},
   "outputs": [
    {
     "data": {
      "text/plain": [
       "<Container object of 3 artists>"
      ]
     },
     "execution_count": 45,
     "metadata": {},
     "output_type": "execute_result"
    },
    {
     "data": {
      "image/png": "[encoded data removed]",
      "text/plain": [
       "<matplotlib.figure.Figure at 0x2dff3950>"
      ]
     },
     "metadata": {},
     "output_type": "display_data"
    },
    {
     "data": {
      "image/png": "[encoded data removed]",
      "text/plain": [
       "<matplotlib.figure.Figure at 0x2e0116b0>"
      ]
     },
     "metadata": {},
     "output_type": "display_data"
    }
   ],
   "source": [
    "import pylab as py\n",
    "import scipy as scipy\n",
    "import matplotlib.pyplot as plt\n",
    "import scipy.fftpack\n",
    "import numpy.fft\n",
    "\n",
    "\n",
    "fig1 = plt.figure()\n",
    "ax1 = fig1.gca()\n",
    "plt.stem(inputa)\n",
    "\n",
    "fig2 = plt.figure()\n",
    "ax2 = fig2.gca()\n",
    "\n",
    "plt.stem(result)"
   ]
  }
 ],
 "metadata": {
  "kernelspec": {
   "display_name": "Python 3",
   "language": "python",
   "name": "python3"
  },
  "language_info": {
   "codemirror_mode": {
    "name": "ipython",
    "version": 3
   },
   "file_extension": ".py",
   "mimetype": "text/x-python",
   "name": "python",
   "nbconvert_exporter": "python",
   "pygments_lexer": "ipython3",
   "version": "3.6.0"
  }
 },
 "nbformat": 4,
 "nbformat_minor": 2
}
