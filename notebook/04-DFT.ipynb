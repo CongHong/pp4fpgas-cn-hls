{
 "cells": [
  {
   "cell_type": "code",
   "execution_count": 2,
   "metadata": {
    "collapsed": true
   },
   "outputs": [],
   "source": [
    "class DftDriver(DefaultIP):\n",
    "    def __init__(self, description):\n",
    "        super().__init__(description=description)\n",
    "    \n",
    "    bindto = ['xilinx.com:hls:dft:1.0']\n",
    "    \n",
    "    @property\n",
    "    def x(self):\n",
    "        return self.read(0x10)\n",
    "    \n",
    "    @x.setter\n",
    "    def x(self, value):\n",
    "        self.write(0x10, value)"
   ]
  },
  {
   "cell_type": "code",
   "execution_count": 17,
   "metadata": {},
   "outputs": [
    {
     "name": "stdout",
     "output_type": "stream",
     "text": [
      "[-4.66436218e-35 -3.79919940e-35 -1.17361422e-34 -4.02489431e-35\n",
      " -1.22778087e-33 -6.69561914e-35 -6.53010887e-34 -4.73959488e-35\n",
      " -1.64005038e-34 -3.58102732e-34 -2.93403523e-34 -2.10648720e-34\n",
      " -7.80002052e-33 -1.21423918e-33 -5.77026933e-34 -2.39958919e-32\n",
      " -2.68802750e-33 -2.28403361e-33 -9.35280155e-33 -2.72519257e-32\n",
      " -3.18741576e-32 -1.65822636e-31 -1.48681860e-31 -1.35277374e-30\n",
      " -2.15704263e-30 -4.95996469e-29 -3.38717326e-29 -1.86565674e-28\n",
      " -1.09493950e-27 -2.76164605e-26 -2.06472151e-24 -1.92071433e-20\n",
      "  1.64741389e-20  5.46391642e-24  5.89184546e-26  1.11450283e-26\n",
      "  1.05312953e-28  6.95775406e-28  2.39024898e-28  5.34453373e-29\n",
      "  5.26564764e-29  4.46692542e-29  2.16197219e-29  7.18603117e-30\n",
      "  1.49883599e-29  7.12440141e-30  2.20018264e-29  5.72047525e-29\n",
      "  4.92113687e-30  3.57760815e-30  1.74412243e-29  1.00629080e-28\n",
      "  3.50648716e-28  3.20474786e-28  1.14384845e-29  7.83338967e-28\n",
      "  5.59775769e-27  1.25271129e-27  3.94304291e-26  3.80167904e-26\n",
      "  1.17049306e-24  1.17840940e-23  6.31035503e-22  3.60370245e-18\n",
      " -4.66436218e-35 -3.79919940e-35 -1.17361422e-34 -4.02489431e-35\n",
      " -1.22778087e-33 -6.69561914e-35 -6.53010887e-34 -4.73959488e-35\n",
      " -1.64005038e-34 -3.58102732e-34 -2.93403523e-34 -2.10648720e-34\n",
      " -7.80002052e-33 -1.21423918e-33 -5.77026933e-34 -2.39958919e-32\n",
      " -2.68802750e-33 -2.28403361e-33 -9.35280155e-33 -2.72519257e-32\n",
      " -3.18741576e-32 -1.65822636e-31 -1.48681860e-31 -1.35277374e-30\n",
      " -2.15704263e-30 -4.95996469e-29 -3.38717326e-29 -1.86565674e-28\n",
      " -1.09493950e-27 -2.76164605e-26 -2.06472151e-24 -1.92071433e-20\n",
      "  1.64741389e-20  5.46391642e-24  5.89184546e-26  1.11450283e-26\n",
      "  1.05312953e-28  6.95775406e-28  2.39024898e-28  5.34453373e-29\n",
      "  5.26564764e-29  4.46692542e-29  2.16197219e-29  7.18603117e-30\n",
      "  1.49883599e-29  7.12440141e-30  2.20018264e-29  5.72047525e-29\n",
      "  4.92113687e-30  3.57760815e-30  1.74412243e-29  1.00629080e-28\n",
      "  3.50648716e-28  3.20474786e-28  1.14384845e-29  7.83338967e-28\n",
      "  5.59775769e-27  1.25271129e-27  3.94304291e-26  3.80167904e-26\n",
      "  1.17049306e-24  1.17840940e-23  6.31035503e-22  3.60370245e-18]\n",
      "[ 2.87266185e-44 -2.56585439e-48  2.19723628e-42  1.96181808e-44\n",
      "  2.10194798e-45  1.24460390e-60  2.15239542e-42  4.66352187e-42\n",
      " -1.12103895e-43 -2.41068215e-40  6.27781786e-43  3.22859360e-42\n",
      "  9.30991651e-36 -2.86986051e-40  2.58287489e-41 -4.40810583e-39\n",
      "  7.84727140e-44 -1.32013545e-40  3.18618449e-58  2.29588788e-41\n",
      " -8.35239542e-53  2.75506589e-39  2.58608885e-37 -4.74899779e-36\n",
      " -2.06629905e-40  1.76324172e-37  2.24207909e-44  1.16631092e-38\n",
      "  8.75812139e-47  7.25500543e-39  7.58194372e-37  1.55456577e-45\n",
      " -8.89496480e-48  9.85288155e-47 -2.51112842e-41  1.80555957e-35\n",
      " -2.26282792e-37 -1.37753294e-39  4.70197905e-35 -2.17466584e-37\n",
      " -1.08733247e-37 -5.21919554e-36  3.34095817e-52  9.11008221e-38\n",
      " -2.49204906e-36 -1.99834080e-37 -6.11257321e-37  1.06529216e-38\n",
      " -3.99668153e-37 -2.93873628e-37  1.78675244e-36  1.08145496e-36\n",
      "  8.93375865e-37  6.90603256e-38  1.48112340e-36 -1.69271218e-36\n",
      "  6.72623357e-44  1.89704125e-32  4.55482484e-32 -4.93616045e-40\n",
      " -1.79997653e-38  2.44502928e-36 -2.65567724e-34 -4.73527029e-40\n",
      "  2.87266185e-44 -2.56585439e-48  2.19723628e-42  1.96181808e-44\n",
      "  2.10194798e-45  1.24460390e-60  2.15239542e-42  4.66352187e-42\n",
      " -1.12103895e-43 -2.41068215e-40  6.27781786e-43  3.22859360e-42\n",
      "  9.30991651e-36 -2.86986051e-40  2.58287489e-41 -4.40810583e-39\n",
      "  7.84727140e-44 -1.32013545e-40  3.18618449e-58  2.29588788e-41\n",
      " -8.35239542e-53  2.75506589e-39  2.58608885e-37 -4.74899779e-36\n",
      " -2.06629905e-40  1.76324172e-37  2.24207909e-44  1.16631092e-38\n",
      "  8.75812139e-47  7.25500543e-39  7.58194372e-37  1.55456577e-45\n",
      " -8.89496480e-48  9.85288155e-47 -2.51112842e-41  1.80555957e-35\n",
      " -2.26282792e-37 -1.37753294e-39  4.70197905e-35 -2.17466584e-37\n",
      " -1.08733247e-37 -5.21919554e-36  3.34095817e-52  9.11008221e-38\n",
      " -2.49204906e-36 -1.99834080e-37 -6.11257321e-37  1.06529216e-38\n",
      " -3.99668153e-37 -2.93873628e-37  1.78675244e-36  1.08145496e-36\n",
      "  8.93375865e-37  6.90603256e-38  1.48112340e-36 -1.69271218e-36\n",
      "  6.72623357e-44  1.89704125e-32  4.55482484e-32 -4.93616045e-40\n",
      " -1.79997653e-38  2.44502928e-36 -2.65567724e-34 -4.73527029e-40]\n"
     ]
    }
   ],
   "source": [
    "import pynq.lib.dma\n",
    "\n",
    "dftol = pynq.Overlay(\"./src/dft/dft.bit\")\n",
    "\n",
    "dma0 = dftol.axi_dma_0\n",
    "dma1 = dftol.axi_dma_1\n",
    "\n",
    "\n",
    "from pynq import Xlnk\n",
    "xlnk = Xlnk()\n",
    "samplereal = xlnk.cma_array(shape=(256,), dtype=np.float)\n",
    "sampleimag = xlnk.cma_array(shape=(256,), dtype=np.float)\n",
    "outreal = xlnk.cma_array(shape=(128,), dtype=np.float)\n",
    "outimag = xlnk.cma_array(shape=(128,), dtype=np.float)\n",
    "\n",
    "for i in range(128):\n",
    "    samplereal[i] = 1\n",
    "    \n",
    "# for i in range(64,128):\n",
    "#     samplereal[i] = 1 \n",
    "\n",
    "\n",
    "for j in range(128):\n",
    "    sampleimag[j] = 0\n",
    "    \n",
    "dma0.sendchannel.transfer(samplereal)\n",
    "dma1.sendchannel.transfer(sampleimag)\n",
    "dma0.recvchannel.transfer(outreal)\n",
    "dma1.recvchannel.transfer(outimag)\n",
    "print(outreal)\n",
    "print(outimag)"
   ]
  },
  {
   "cell_type": "code",
   "execution_count": 19,
   "metadata": {},
   "outputs": [
    {
     "data": {
      "text/plain": [
       "[<matplotlib.lines.Line2D at 0x2e1acbb0>]"
      ]
     },
     "execution_count": 19,
     "metadata": {},
     "output_type": "execute_result"
    },
    {
     "data": {
      "image/png": "[encoded data removed]",
      "text/plain": [
       "<matplotlib.figure.Figure at 0x2e318ab0>"
      ]
     },
     "metadata": {},
     "output_type": "display_data"
    },
    {
     "data": {
      "image/png": "[encoded data removed]",
      "text/plain": [
       "<matplotlib.figure.Figure at 0x2e7cabf0>"
      ]
     },
     "metadata": {},
     "output_type": "display_data"
    }
   ],
   "source": [
    "import pylab as py\n",
    "import scipy as scipy\n",
    "import matplotlib.pyplot as plt\n",
    "import scipy.fftpack\n",
    "import numpy.fft\n",
    "\n",
    "actualreal = samplereal[0:128]\n",
    "fig1 = plt.figure()\n",
    "ax1 = fig1.gca()\n",
    "plt.plot(actualreal)\n",
    "\n",
    "fig2 = plt.figure()\n",
    "ax2 = fig2.gca()\n",
    "\n",
    "plt.plot(outreal)"
   ]
  }
 ],
 "metadata": {
  "kernelspec": {
   "display_name": "Python 3",
   "language": "python",
   "name": "python3"
  },
  "language_info": {
   "codemirror_mode": {
    "name": "ipython",
    "version": 3
   },
   "file_extension": ".py",
   "mimetype": "text/x-python",
   "name": "python",
   "nbconvert_exporter": "python",
   "pygments_lexer": "ipython3",
   "version": "3.6.0"
  }
 },
 "nbformat": 4,
 "nbformat_minor": 2
}
